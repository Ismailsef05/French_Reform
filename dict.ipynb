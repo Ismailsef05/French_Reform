{
 "cells": [
  {
   "cell_type": "code",
   "execution_count": 15,
   "metadata": {},
   "outputs": [
    {
     "name": "stderr",
     "output_type": "stream",
     "text": [
      "/tmp/ipykernel_1841/2530565275.py:22: FutureWarning: Series.__getitem__ treating keys as positions is deprecated. In a future version, integer keys will always be treated as labels (consistent with DataFrame behavior). To access a value by position, use `ser.iloc[pos]`\n",
      "  word_dict = {(index, row[0]): 0 for index, row in df[['2_phon']].iterrows()}\n"
     ]
    },
    {
     "data": {
      "text/plain": [
       "{('de', 'de'): 36295,\n",
       " ('la', 'la'): 22528,\n",
       " ('je', 'je'): 257,\n",
       " ('et', 'é'): 15123,\n",
       " ('le', 'le'): 15063,\n",
       " ('à', 'a'): 12498,\n",
       " ('il', 'il'): 4359,\n",
       " ('pas', 'pa'): 1599,\n",
       " ('est', 'é'): 5968,\n",
       " ('un', 'un'): 5266,\n",
       " ('les', 'lé'): 12770,\n",
       " ('ne', 'ne'): 1594,\n",
       " (\"l'\", 'l'): 0,\n",
       " (\"d'\", 'd'): 1,\n",
       " ('une', 'un'): 5183,\n",
       " ('tu', 'tu'): 17,\n",
       " ('vous', 'vou'): 90,\n",
       " ('des', 'dé'): 11421,\n",
       " (\"n'\", 'n'): 0,\n",
       " ('en', 'an'): 10743,\n",
       " ('on', 'on'): 709,\n",
       " ('pour', 'pour'): 4020,\n",
       " ('qui', 'ki'): 4491,\n",
       " ('dans', 'dan'): 5760,\n",
       " ('elle', 'èl'): 844,\n",
       " ('ça', 'sa'): 7,\n",
       " ('du', 'du'): 8267,\n",
       " ('mais', 'mè'): 1527,\n",
       " ('se', 'se'): 2678,\n",
       " ('a', 'a'): 2284,\n",
       " ('me', 'me'): 54,\n",
       " ('plus', 'plu'): 3463,\n",
       " ('au', 'o'): 4100,\n",
       " ('nous', 'nou'): 296,\n",
       " ('ce', 'seu'): 2094,\n",
       " ('sur', 'sur'): 2932,\n",
       " (\"s'\", 's'): 0,\n",
       " ('avec', 'avèk'): 2312,\n",
       " ('y', 'i'): 642,\n",
       " ('ai', 'è'): 8,\n",
       " ('bien', 'byin'): 591,\n",
       " ('lui', 'lui'): 809,\n",
       " ('son', 'son'): 2911,\n",
       " ('que', 'ke'): 4320,\n",
       " ('mon', 'mon'): 70,\n",
       " ('était', 'étè'): 568,\n",
       " ('ils', 'il'): 444,\n",
       " ('comme', 'kOm'): 2217,\n",
       " ('moi', 'mwa'): 33,\n",
       " ('par', 'par'): 5416,\n",
       " ('non', 'non'): 368,\n",
       " (\"t'\", 't'): 0,\n",
       " ('sa', 'sa'): 2029,\n",
       " ('te', 'te'): 21,\n",
       " ('dit', 'di'): 111,\n",
       " ('faire', 'fèr'): 323,\n",
       " ('cette', 'sèt'): 1466,\n",
       " ('fait', 'fè'): 1012,\n",
       " ('va', 'va'): 133,\n",
       " ('ma', 'ma'): 55,\n",
       " ('ou', 'ou'): 2260,\n",
       " ('rien', 'ryin'): 100,\n",
       " ('ses', 'sé'): 1645,\n",
       " ('oui', 'wi'): 5,\n",
       " ('avait', 'avè'): 320,\n",
       " ('où', 'ou'): 673,\n",
       " ('quand', 'kan'): 151,\n",
       " ('sans', 'san'): 548,\n",
       " ('là', 'la'): 97,\n",
       " ('sais', 'sè'): 10,\n",
       " ('si', 'si'): 486,\n",
       " ('toi', 'twa'): 5,\n",
       " ('ici', 'isi'): 45,\n",
       " ('veux', 'veu'): 6,\n",
       " ('alors', 'alOr'): 688,\n",
       " ('ces', 'sé'): 1057,\n",
       " ('aussi', 'osi'): 790,\n",
       " ('encore', 'ankOr'): 427,\n",
       " ('aux', 'o'): 1420,\n",
       " ('très', 'trè'): 697,\n",
       " ('tout', 'tou'): 579,\n",
       " ('deux', 'deu'): 1011,\n",
       " ('jamais', 'jamè'): 167,\n",
       " ('as', 'a'): 11,\n",
       " ('suis', 'sui'): 30,\n",
       " ('dire', 'dir'): 52,\n",
       " ('votre', 'vOtr'): 16,\n",
       " ('temps', 'tan'): 319,\n",
       " ('même', 'mèm'): 835}"
      ]
     },
     "execution_count": 15,
     "metadata": {},
     "output_type": "execute_result"
    }
   ],
   "source": [
    "import pandas as pd\n",
    "import os\n",
    "\n",
    "directory = 'articles'\n",
    "\n",
    "df = pd.read_excel('lexique.xlsx', index_col=0, usecols=[0,1,3,4])\n",
    "zero_replacement = {'u':'ou', 'y':'u',}\n",
    "first_replacement = {'e':'é', 'E': 'è', 'j':'y',}\n",
    "dup_replacement = {'Z9': 'je', 'Z2':'je','Z°':'je', 'Zi':'ji', 'Zo':'jo', 'Ze':'je', 'Za':'ja', 'Zè':'jè', 'Zé': 'jé', 'Z5': 'jin'\n",
    "                   ,'Z@': 'jan', 'Zu': 'ju', 'Z1': 'jin', 'Z8i':'jui', 'Z8a':'jua'}# Z1 : jin or jun ?\n",
    "second_replacement = {'@': 'an', '-': '', '§': 'on','8i':'ui' , '8': 'ui', '1': 'in', '°':'e', 'Z':'je', '5':'in', '9':'eu', '5':'in', '2':'eu',\n",
    "                      1:\"un\", 'R':'r', 'S': 'ch', 'N': 'gn', 'x':'j',  }# 'G':'ng'\n",
    "\n",
    "df['2_phon'] = df['2_phon'].replace(zero_replacement, regex=True)\n",
    "df['2_phon'] = df['2_phon'].replace(first_replacement, regex=True)\n",
    "df['2_phon'] = df['2_phon'].replace(dup_replacement, regex=True)\n",
    "df['2_phon'] = df['2_phon'].replace(second_replacement, regex=True)\n",
    "\n",
    "\n",
    "df[\"freq\"] = (df[\"freqfilms\"] + df[\"freqlivres\"])/2\n",
    "df= df.sort_values(\"freq\", ascending=[False]).head(100)\n",
    "word_dict = {(index, row[0]): 0 for index, row in df[['2_phon']].iterrows()}\n",
    "word_dict\n",
    "for filename in os.listdir(directory):\n",
    "    if filename.endswith(\".txt\"):\n",
    "        with open(os.path.join(directory, filename), 'r', encoding='utf-8') as f:\n",
    "            for line in f:\n",
    "                for word in line.split():\n",
    "                     for key in word_dict.keys():\n",
    "                        if word == key[0]:  # Check if the word is the 'word' part of the key\n",
    "                            word_dict[key] += 1\n",
    "word_dict"
   ]
  },
  {
   "cell_type": "code",
   "execution_count": 19,
   "metadata": {},
   "outputs": [
    {
     "data": {
      "text/plain": [
       "'sui'"
      ]
     },
     "execution_count": 19,
     "metadata": {},
     "output_type": "execute_result"
    }
   ],
   "source": [
    "df.loc['suis']['2_phon']"
   ]
  },
  {
   "cell_type": "code",
   "execution_count": null,
   "metadata": {},
   "outputs": [],
   "source": []
  }
 ],
 "metadata": {
  "kernelspec": {
   "display_name": "Python 3",
   "language": "python",
   "name": "python3"
  },
  "language_info": {
   "codemirror_mode": {
    "name": "ipython",
    "version": 3
   },
   "file_extension": ".py",
   "mimetype": "text/x-python",
   "name": "python",
   "nbconvert_exporter": "python",
   "pygments_lexer": "ipython3",
   "version": "3.10.12"
  }
 },
 "nbformat": 4,
 "nbformat_minor": 2
}
