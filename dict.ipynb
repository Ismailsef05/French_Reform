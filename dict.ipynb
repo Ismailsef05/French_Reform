{
 "cells": [
  {
   "cell_type": "code",
   "execution_count": null,
   "metadata": {},
   "outputs": [],
   "source": [
    "import pandas as pd\n",
    "import os\n",
    "\n",
    "directory = 'articles'\n",
    "# url = 'https://raw.githubusercontent.com/Ismailsef05/French_Reform/ismail/lexique2.csv?token=GHSAT0AAAAAACL2GY3HH4T5WSOSYYH24J32ZMC7FNA'\n",
    "df = pd.read_csv('lexique2.csv', index_col=0, usecols=[0,1,3,4], encoding='ISO-8859-1')\n",
    "\n",
    "zero_replacement = {'u':'ou', 'y':'u',}\n",
    "first_replacement = {'e':'é', 'E': 'è', 'j':'y',}\n",
    "dup_replacement = {'Z9': 'je', 'Z2':'je','Z°':'je', 'Zi':'ji', 'Zo':'jo', 'Ze':'je', 'Za':'ja', 'Zè':'jè', 'Zé': 'jé', 'Z5': 'jin'\n",
    "                   ,'Z@': 'jan', 'Zu': 'ju', 'Z1': 'jin', 'Z8i':'jui', 'Z8a':'jua'}# Z1 : jin or jun ?\n",
    "second_replacement = {'@': 'an', '-': '', '§': 'on','8i':'ui' , '8': 'ui', '1': 'in', '°':'e', 'Z':'je', '5':'in', '9':'eu', '5':'in', '2':'eu',\n",
    "                      1:\"un\", 'R':'r', 'S': 'ch', 'N': 'gn', 'x':'j','O':'o'  }# 'G':'ng'\n",
    "\n",
    "df['new_s'] = df['2_phon'].replace(zero_replacement, regex=True)\n",
    "df['new_s'] = df['new_s'].replace(first_replacement, regex=True)\n",
    "df['new_s'] = df['new_s'].replace(dup_replacement, regex=True)\n",
    "df['new_s'] = df['new_s'].replace(second_replacement, regex=True)\n",
    "print('size of the lexique', len(df))\n",
    "df['freq'] = 0\n",
    "df= df.sort_values(\"freqlivres\", ascending=[False])\n",
    "# word_dict = {(index, row[0]): 0 for index, row in df[['2_phon']].iterrows()}\n",
    "\n",
    "# for filename in os.listdir(directory):\n",
    "#     if filename.endswith(\".txt\"):\n",
    "#         with open(os.path.join(directory, filename), 'r', encoding='utf-8') as f:\n",
    "#             for line in f:\n",
    "#                 for word in line.split():\n",
    "#                      for key in word_dict.keys():\n",
    "#                         if word == key[0]:  # Check if the word is the 'word' part of the key\n",
    "#                             word_dict[key] += 1\n",
    "# word_dict\n",
    "mapping = {(index): row[0] for index, row in df[['new_s']].iterrows()}\n",
    "mapping\n"
   ]
  },
  {
   "cell_type": "code",
   "execution_count": null,
   "metadata": {},
   "outputs": [],
   "source": [
    "#access the word_dict\n",
    "# word_dict[('je', 'je')]\n",
    "#Maybe I need to change this\n",
    "\n",
    "df[df['freq'] != 0]\n"
   ]
  },
  {
   "cell_type": "code",
   "execution_count": null,
   "metadata": {},
   "outputs": [],
   "source": [
    "\n",
    "for filename in os.listdir(\"articles\")[:1]:\n",
    "\n",
    "    with open(os.path.join(\"articles\", filename), 'r', encoding='utf-8') as file:\n",
    "     \n",
    "        modified_name = filename + \"_modified\"\n",
    "        i = 0\n",
    "        word_nb = 0\n",
    "        new_f = open(os.path.join(\"replacement\", modified_name), 'a', encoding='utf-8')\n",
    "        for line in file:\n",
    "            for word in line.split():\n",
    "                try:\n",
    "                    new_word = mapping[word]\n",
    "                    word_nb = word_nb + 1\n",
    "                    df.loc[word, 'freq'] = df.loc[word,'freq'] + 1\n",
    "                    new_f.write(new_word + \" \")\n",
    "                except:\n",
    "                     i = i + 1\n",
    "                     new_f.write(word + \" \")\n",
    "        new_f.write(\"\\n\")\n",
    "    new_f.write(\"\\n number of words not found: \" + str(i) + \"\\n\")\n",
    "    new_f.close()\n",
    "\n"
   ]
  },
  {
   "cell_type": "code",
   "execution_count": null,
   "metadata": {},
   "outputs": [],
   "source": [
    "df_1 = df[df['freq'] != 0]\n",
    "df_1['%'] = df_1['freq'] / word_nb\n",
    "\n"
   ]
  },
  {
   "cell_type": "code",
   "execution_count": null,
   "metadata": {},
   "outputs": [],
   "source": [
    "mapping2 = {(index): row[0] for index, row in df_1[['new_s']].iterrows()}\n",
    "df_1['saving'] = 0\n",
    "for word in mapping2.keys():\n",
    "    df_1.loc[word, 'saving'] = (len(word) / len(mapping2[word]) )- 1 \n",
    "\n",
    "# Fill NaN values with 0\n",
    "df_1['saving'].fillna(0, inplace=True)\n",
    "df_1['freq'].fillna(0, inplace=True)\n",
    "\n",
    "# Calculate total savings\n",
    "total = (df_1['saving'] * df_1['freq']).sum()\n",
    "\n",
    "# print(total)\n"
   ]
  },
  {
   "cell_type": "code",
   "execution_count": null,
   "metadata": {},
   "outputs": [],
   "source": [
    "print('Total percent saving from original file is: ', 100 - total,'%' )"
   ]
  }
 ],
 "metadata": {
  "kernelspec": {
   "display_name": "Python 3",
   "language": "python",
   "name": "python3"
  },
  "language_info": {
   "codemirror_mode": {
    "name": "ipython",
    "version": 3
   },
   "file_extension": ".py",
   "mimetype": "text/x-python",
   "name": "python",
   "nbconvert_exporter": "python",
   "pygments_lexer": "ipython3",
   "version": "3.10.12"
  }
 },
 "nbformat": 4,
 "nbformat_minor": 2
}
